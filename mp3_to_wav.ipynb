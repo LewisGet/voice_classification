{
 "cells": [
  {
   "cell_type": "code",
   "execution_count": 1,
   "metadata": {},
   "outputs": [],
   "source": [
    "from pydub import AudioSegment\n",
    "import os"
   ]
  },
  {
   "cell_type": "code",
   "execution_count": 2,
   "metadata": {},
   "outputs": [],
   "source": [
    "def mp3_2_wav(file):\n",
    "    path = os.path.dirname(file)\n",
    "    name = os.path.splitext(os.path.basename(file))[0]\n",
    "    \n",
    "    audio = AudioSegment.from_file(file, format=\"mp3\")\n",
    "    \n",
    "    #, frame_rate=22050, channels=1, sample_width=2\n",
    "    \n",
    "    audio = audio.set_frame_rate(16000)\n",
    "    audio = audio.set_channels(1)\n",
    "    audio = audio.set_sample_width(2)\n",
    "    \n",
    "    audio.export(\"%s.wav\" % os.path.join(path, name), format=\"wav\")"
   ]
  },
  {
   "cell_type": "code",
   "execution_count": 3,
   "metadata": {},
   "outputs": [],
   "source": [
    "import glob"
   ]
  },
  {
   "cell_type": "code",
   "execution_count": 4,
   "metadata": {},
   "outputs": [],
   "source": [
    "for i in glob.glob(os.path.join(\".\", \"data\", \"*\", \"*.mp3\")):\n",
    "    mp3_2_wav(i)"
   ]
  },
  {
   "cell_type": "code",
   "execution_count": null,
   "metadata": {},
   "outputs": [],
   "source": []
  }
 ],
 "metadata": {
  "kernelspec": {
   "display_name": "Python 3",
   "language": "python",
   "name": "python3"
  },
  "language_info": {
   "codemirror_mode": {
    "name": "ipython",
    "version": 3
   },
   "file_extension": ".py",
   "mimetype": "text/x-python",
   "name": "python",
   "nbconvert_exporter": "python",
   "pygments_lexer": "ipython3",
   "version": "3.6.5"
  }
 },
 "nbformat": 4,
 "nbformat_minor": 2
}
